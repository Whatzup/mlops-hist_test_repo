{
 "cells": [
  {
   "cell_type": "code",
   "execution_count": null,
   "metadata": {},
   "outputs": [],
   "source": [
    "# histogram_example.py\n",
    "\n",
    "import matplotlib.pyplot as plt\n",
    "\n",
    "def generate_histogram(data, bins=10):\n",
    "    \"\"\"\n",
    "    Generates and displays a histogram for the given data.\n",
    "\n",
    "    Parameters:\n",
    "    - data: List of numerical values to be plotted.\n",
    "    - bins: Number of bins in the histogram.\n",
    "    \"\"\"\n",
    "    # Create a histogram\n",
    "    plt.hist(data, bins=bins, edgecolor='black')\n",
    "\n",
    "    # Add a title and labels\n",
    "    plt.title('Histogram of Sample Data')\n",
    "    plt.xlabel('Value')\n",
    "    plt.ylabel('Frequency')\n",
    "\n",
    "    # Show the plot\n",
    "    plt.show()\n",
    "\n",
    "def main():\n",
    "    # Sample data\n",
    "    data = [23, 45, 56, 78, 33, 44, 56, 23, 89, 90, 12, 67, 43, 56, 78]\n",
    "    \n",
    "    # Generate and display the histogram\n",
    "    generate_histogram(data)\n",
    "\n",
    "if __name__ == \"__main__\":\n",
    "    main()\n"
   ]
  },
  {
   "cell_type": "code",
   "execution_count": null,
   "metadata": {},
   "outputs": [],
   "source": [
    "1"
   ]
  },
  {
   "cell_type": "code",
   "execution_count": null,
   "metadata": {},
   "outputs": [],
   "source": []
  }
 ],
 "metadata": {
  "language_info": {
   "name": "python"
  }
 },
 "nbformat": 4,
 "nbformat_minor": 2
}
